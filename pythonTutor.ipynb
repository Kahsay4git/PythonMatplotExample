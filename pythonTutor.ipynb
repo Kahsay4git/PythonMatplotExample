{
 "cells": [
  {
   "cell_type": "code",
   "execution_count": 1,
   "metadata": {},
   "outputs": [],
   "source": [
    "nb=[[1,2]]\n"
   ]
  },
  {
   "cell_type": "code",
   "execution_count": 2,
   "metadata": {},
   "outputs": [
    {
     "data": {
      "text/plain": [
       "[1, 2]"
      ]
     },
     "execution_count": 2,
     "metadata": {},
     "output_type": "execute_result"
    }
   ],
   "source": [
    "nb[0]"
   ]
  },
  {
   "cell_type": "code",
   "execution_count": 3,
   "metadata": {},
   "outputs": [
    {
     "data": {
      "text/plain": [
       "1"
      ]
     },
     "execution_count": 3,
     "metadata": {},
     "output_type": "execute_result"
    }
   ],
   "source": [
    "nb[0][0]"
   ]
  },
  {
   "cell_type": "code",
   "execution_count": 32,
   "metadata": {},
   "outputs": [],
   "source": [
    "import numpy as np\n",
    "import matplotlib.pyplot as plt\n",
    "import pandas as pd\n",
    "import math"
   ]
  },
  {
   "cell_type": "code",
   "execution_count": 11,
   "metadata": {},
   "outputs": [],
   "source": [
    "#single array\n",
    "cc=np.array([1,3,4])\n",
    "# double deminational array\n",
    "bb=np.array([[1,2,4],[4,5,6]])\n"
   ]
  },
  {
   "cell_type": "code",
   "execution_count": 13,
   "metadata": {},
   "outputs": [
    {
     "data": {
      "text/plain": [
       "(3,)"
      ]
     },
     "execution_count": 13,
     "metadata": {},
     "output_type": "execute_result"
    }
   ],
   "source": [
    "cc.shape"
   ]
  },
  {
   "cell_type": "code",
   "execution_count": 12,
   "metadata": {},
   "outputs": [
    {
     "data": {
      "text/plain": [
       "(2, 3)"
      ]
     },
     "execution_count": 12,
     "metadata": {},
     "output_type": "execute_result"
    }
   ],
   "source": [
    "bb.shape\n"
   ]
  },
  {
   "cell_type": "code",
   "execution_count": 14,
   "metadata": {},
   "outputs": [
    {
     "name": "stdout",
     "output_type": "stream",
     "text": [
      "range(0, 3)\n"
     ]
    }
   ],
   "source": [
    "x=range(3)\n",
    "print(x)"
   ]
  },
  {
   "cell_type": "code",
   "execution_count": 21,
   "metadata": {},
   "outputs": [],
   "source": [
    "cx=np.arange(2,5,0.4)"
   ]
  },
  {
   "cell_type": "code",
   "execution_count": 20,
   "metadata": {},
   "outputs": [],
   "source": [
    "cx=np.arange(2,8,0.2)"
   ]
  },
  {
   "cell_type": "code",
   "execution_count": 18,
   "metadata": {},
   "outputs": [
    {
     "data": {
      "text/plain": [
       "array([1. , 1.2, 1.4, 1.6, 1.8, 2. , 2.2, 2.4, 2.6, 2.8, 3. , 3.2, 3.4,\n",
       "       3.6, 3.8, 4. , 4.2, 4.4, 4.6, 4.8, 5. , 5.2, 5.4, 5.6, 5.8, 6. ,\n",
       "       6.2, 6.4, 6.6, 6.8, 7. , 7.2, 7.4, 7.6, 7.8])"
      ]
     },
     "execution_count": 18,
     "metadata": {},
     "output_type": "execute_result"
    }
   ],
   "source": [
    "np.arange(1,8,0.2)"
   ]
  },
  {
   "cell_type": "code",
   "execution_count": 23,
   "metadata": {},
   "outputs": [
    {
     "data": {
      "text/plain": [
       "(2, 3)"
      ]
     },
     "execution_count": 23,
     "metadata": {},
     "output_type": "execute_result"
    }
   ],
   "source": [
    "#additon multex\n",
    "aa=np.array([[1,4,5],[2,5,7]])\n",
    "aa.shape"
   ]
  },
  {
   "cell_type": "code",
   "execution_count": 24,
   "metadata": {},
   "outputs": [
    {
     "data": {
      "text/plain": [
       "array([[ 2,  8, 10],\n",
       "       [ 4, 10, 14]])"
      ]
     },
     "execution_count": 24,
     "metadata": {},
     "output_type": "execute_result"
    }
   ],
   "source": [
    "bb=np.array([[1,4,5],[2,5,7]])\n",
    "bb.shape\n",
    "aa+bb"
   ]
  },
  {
   "cell_type": "code",
   "execution_count": 25,
   "metadata": {},
   "outputs": [
    {
     "data": {
      "text/plain": [
       "array([[ 1, 16, 25],\n",
       "       [ 4, 25, 49]])"
      ]
     },
     "execution_count": 25,
     "metadata": {},
     "output_type": "execute_result"
    }
   ],
   "source": [
    "aa*bb"
   ]
  },
  {
   "cell_type": "code",
   "execution_count": 26,
   "metadata": {},
   "outputs": [
    {
     "data": {
      "text/plain": [
       "(2, 3)"
      ]
     },
     "execution_count": 26,
     "metadata": {},
     "output_type": "execute_result"
    }
   ],
   "source": [
    "bb.shape\n"
   ]
  },
  {
   "cell_type": "code",
   "execution_count": 27,
   "metadata": {},
   "outputs": [
    {
     "data": {
      "text/plain": [
       "array([ 3,  9, 12])"
      ]
     },
     "execution_count": 27,
     "metadata": {},
     "output_type": "execute_result"
    }
   ],
   "source": [
    "sum(bb)"
   ]
  },
  {
   "cell_type": "code",
   "execution_count": 30,
   "metadata": {},
   "outputs": [
    {
     "data": {
      "text/plain": [
       "4.0"
      ]
     },
     "execution_count": 30,
     "metadata": {},
     "output_type": "execute_result"
    }
   ],
   "source": [
    "np.mean(bb)"
   ]
  },
  {
   "cell_type": "code",
   "execution_count": 52,
   "metadata": {},
   "outputs": [
    {
     "data": {
      "text/plain": [
       "(array([1., 0., 0., 0., 1., 0., 0., 0., 1., 1.]),\n",
       " array([1. , 1.7, 2.4, 3.1, 3.8, 4.5, 5.2, 5.9, 6.6, 7.3, 8. ]),\n",
       " <a list of 10 Patch objects>)"
      ]
     },
     "execution_count": 52,
     "metadata": {},
     "output_type": "execute_result"
    },
    {
     "data": {
      "image/png": "[encoded data removed]",
      "text/plain": [
       "<Figure size 432x288 with 1 Axes>"
      ]
     },
     "metadata": {
      "needs_background": "light"
     },
     "output_type": "display_data"
    }
   ],
   "source": [
    "val=[1,4,7,8]\n",
    "plt.xlabel('x-axis')\n",
    "plt.ylabel('y-axis')\n",
    "plt.hist(val)\n",
    "\n"
   ]
  },
  {
   "cell_type": "code",
   "execution_count": 50,
   "metadata": {},
   "outputs": [
    {
     "data": {
      "text/plain": [
       "(array([1., 1., 2.]),\n",
       " array([1.        , 3.33333333, 5.66666667, 8.        ]),\n",
       " <a list of 3 Patch objects>)"
      ]
     },
     "execution_count": 50,
     "metadata": {},
     "output_type": "execute_result"
    },
    {
     "data": {
      "image/png": "[encoded data removed]",
      "text/plain": [
       "<Figure size 432x288 with 1 Axes>"
      ]
     },
     "metadata": {
      "needs_background": "light"
     },
     "output_type": "display_data"
    }
   ],
   "source": [
    "val=[1,4,7,8]\n",
    "plt.hist(val,bins=3)"
   ]
  },
  {
   "cell_type": "code",
   "execution_count": 38,
   "metadata": {},
   "outputs": [
    {
     "data": {
      "text/plain": [
       "<matplotlib.collections.PathCollection at 0x269932cbcc8>"
      ]
     },
     "execution_count": 38,
     "metadata": {},
     "output_type": "execute_result"
    },
    {
     "data": {
      "image/png": "[encoded data removed]",
      "text/plain": [
       "<Figure size 432x288 with 1 Axes>"
      ]
     },
     "metadata": {
      "needs_background": "light"
     },
     "output_type": "display_data"
    }
   ],
   "source": [
    "x=[2,6,8]\n",
    "y=[10,20,30]\n",
    "plt.plot(x,y)\n",
    "plt.show\n",
    "plt.scatter(x,y)"
   ]
  },
  {
   "cell_type": "code",
   "execution_count": 4,
   "metadata": {},
   "outputs": [],
   "source": [
    "# file\n",
    "#dd=open(\"kk.txt\",\"w\")\n",
    "#data=dd.readline()\n",
    "#dd.close()"
   ]
  },
  {
   "cell_type": "code",
   "execution_count": 7,
   "metadata": {},
   "outputs": [
    {
     "data": {
      "text/html": [
       "<div>\n",
       "<style scoped>\n",
       "    .dataframe tbody tr th:only-of-type {\n",
       "        vertical-align: middle;\n",
       "    }\n",
       "\n",
       "    .dataframe tbody tr th {\n",
       "        vertical-align: top;\n",
       "    }\n",
       "\n",
       "    .dataframe thead th {\n",
       "        text-align: right;\n",
       "    }\n",
       "</style>\n",
       "<table border=\"1\" class=\"dataframe\">\n",
       "  <thead>\n",
       "    <tr style=\"text-align: right;\">\n",
       "      <th></th>\n",
       "      <th>kahsay</th>\n",
       "      <th>gebrekidan</th>\n",
       "      <th>syum</th>\n",
       "      <th>mekonnen</th>\n",
       "    </tr>\n",
       "  </thead>\n",
       "  <tbody>\n",
       "  </tbody>\n",
       "</table>\n",
       "</div>"
      ],
      "text/plain": [
       "Empty DataFrame\n",
       "Columns: [kahsay,  gebrekidan,  syum,  mekonnen]\n",
       "Index: []"
      ]
     },
     "execution_count": 7,
     "metadata": {},
     "output_type": "execute_result"
    }
   ],
   "source": [
    "#pandas \n",
    "pd.read_csv(\"kk.txt\")"
   ]
  },
  {
   "cell_type": "code",
   "execution_count": 8,
   "metadata": {},
   "outputs": [
    {
     "data": {
      "text/html": [
       "<div>\n",
       "<style scoped>\n",
       "    .dataframe tbody tr th:only-of-type {\n",
       "        vertical-align: middle;\n",
       "    }\n",
       "\n",
       "    .dataframe tbody tr th {\n",
       "        vertical-align: top;\n",
       "    }\n",
       "\n",
       "    .dataframe thead th {\n",
       "        text-align: right;\n",
       "    }\n",
       "</style>\n",
       "<table border=\"1\" class=\"dataframe\">\n",
       "  <thead>\n",
       "    <tr style=\"text-align: right;\">\n",
       "      <th></th>\n",
       "      <th>kahsay</th>\n",
       "      <th>gebrekidan</th>\n",
       "      <th>syum</th>\n",
       "      <th>mekonnen</th>\n",
       "    </tr>\n",
       "  </thead>\n",
       "  <tbody>\n",
       "    <tr>\n",
       "      <td>0</td>\n",
       "      <td>NaN</td>\n",
       "      <td>enginner from</td>\n",
       "      <td>et</td>\n",
       "      <td>will</td>\n",
       "    </tr>\n",
       "  </tbody>\n",
       "</table>\n",
       "</div>"
      ],
      "text/plain": [
       "   kahsay       gebrekidan  syum  mekonnen\n",
       "0     NaN   enginner from     et      will"
      ]
     },
     "execution_count": 8,
     "metadata": {},
     "output_type": "execute_result"
    }
   ],
   "source": [
    "pd.read_csv(\"kk.txt\")"
   ]
  },
  {
   "cell_type": "code",
   "execution_count": 30,
   "metadata": {},
   "outputs": [
    {
     "data": {
      "text/html": [
       "<div>\n",
       "<style scoped>\n",
       "    .dataframe tbody tr th:only-of-type {\n",
       "        vertical-align: middle;\n",
       "    }\n",
       "\n",
       "    .dataframe tbody tr th {\n",
       "        vertical-align: top;\n",
       "    }\n",
       "\n",
       "    .dataframe thead th {\n",
       "        text-align: right;\n",
       "    }\n",
       "</style>\n",
       "<table border=\"1\" class=\"dataframe\">\n",
       "  <thead>\n",
       "    <tr style=\"text-align: right;\">\n",
       "      <th></th>\n",
       "      <th>kahsay,</th>\n",
       "      <th>gebrekidan,</th>\n",
       "      <th>syum,</th>\n",
       "      <th>mekonnen,</th>\n",
       "    </tr>\n",
       "  </thead>\n",
       "  <tbody>\n",
       "    <tr>\n",
       "      <td>enginner</td>\n",
       "      <td>from</td>\n",
       "      <td>,</td>\n",
       "      <td>et,</td>\n",
       "      <td>will,kk,</td>\n",
       "    </tr>\n",
       "    <tr>\n",
       "      <td>hh,kk,ll,lll</td>\n",
       "      <td>NaN</td>\n",
       "      <td>NaN</td>\n",
       "      <td>NaN</td>\n",
       "      <td>NaN</td>\n",
       "    </tr>\n",
       "  </tbody>\n",
       "</table>\n",
       "</div>"
      ],
      "text/plain": [
       "             kahsay, gebrekidan, syum, mekonnen,\n",
       "enginner        from           ,   et,  will,kk,\n",
       "hh,kk,ll,lll     NaN         NaN   NaN       NaN"
      ]
     },
     "execution_count": 30,
     "metadata": {},
     "output_type": "execute_result"
    }
   ],
   "source": [
    "pd.read_csv(\"kk.txt\", delimiter ='\\s+') # \\s+ help included the separator in pagegiven"
   ]
  },
  {
   "cell_type": "code",
   "execution_count": 13,
   "metadata": {},
   "outputs": [
    {
     "data": {
      "text/html": [
       "<div>\n",
       "<style scoped>\n",
       "    .dataframe tbody tr th:only-of-type {\n",
       "        vertical-align: middle;\n",
       "    }\n",
       "\n",
       "    .dataframe tbody tr th {\n",
       "        vertical-align: top;\n",
       "    }\n",
       "\n",
       "    .dataframe thead th {\n",
       "        text-align: right;\n",
       "    }\n",
       "</style>\n",
       "<table border=\"1\" class=\"dataframe\">\n",
       "  <thead>\n",
       "    <tr style=\"text-align: right;\">\n",
       "      <th></th>\n",
       "      <th>week</th>\n",
       "      <th>month</th>\n",
       "    </tr>\n",
       "  </thead>\n",
       "  <tbody>\n",
       "    <tr>\n",
       "      <td>a</td>\n",
       "      <td>sun</td>\n",
       "      <td>sep</td>\n",
       "    </tr>\n",
       "    <tr>\n",
       "      <td>b</td>\n",
       "      <td>mon</td>\n",
       "      <td>oc</td>\n",
       "    </tr>\n",
       "    <tr>\n",
       "      <td>c</td>\n",
       "      <td>tues</td>\n",
       "      <td>de</td>\n",
       "    </tr>\n",
       "  </tbody>\n",
       "</table>\n",
       "</div>"
      ],
      "text/plain": [
       "   week month\n",
       "a   sun   sep\n",
       "b   mon    oc\n",
       "c  tues    de"
      ]
     },
     "execution_count": 13,
     "metadata": {},
     "output_type": "execute_result"
    }
   ],
   "source": [
    "dc={'week':['sun','mon','tues'],\"month\":['sep','oc','de']}\n",
    "vw = pd.DataFrame(dc)\n",
    "vw.index= ['a','b','c']\n",
    "vw"
   ]
  },
  {
   "cell_type": "code",
   "execution_count": 16,
   "metadata": {
    "scrolled": true
   },
   "outputs": [
    {
     "data": {
      "text/html": [
       "<div>\n",
       "<style scoped>\n",
       "    .dataframe tbody tr th:only-of-type {\n",
       "        vertical-align: middle;\n",
       "    }\n",
       "\n",
       "    .dataframe tbody tr th {\n",
       "        vertical-align: top;\n",
       "    }\n",
       "\n",
       "    .dataframe thead th {\n",
       "        text-align: right;\n",
       "    }\n",
       "</style>\n",
       "<table border=\"1\" class=\"dataframe\">\n",
       "  <thead>\n",
       "    <tr style=\"text-align: right;\">\n",
       "      <th></th>\n",
       "      <th>Date</th>\n",
       "      <th>Open</th>\n",
       "      <th>High</th>\n",
       "      <th>Low</th>\n",
       "      <th>Close</th>\n",
       "      <th>Adj Close</th>\n",
       "      <th>Volume</th>\n",
       "    </tr>\n",
       "  </thead>\n",
       "  <tbody>\n",
       "    <tr>\n",
       "      <td>0</td>\n",
       "      <td>2019-06-10</td>\n",
       "      <td>191.809998</td>\n",
       "      <td>195.369995</td>\n",
       "      <td>191.619995</td>\n",
       "      <td>192.580002</td>\n",
       "      <td>190.308762</td>\n",
       "      <td>26220900</td>\n",
       "    </tr>\n",
       "    <tr>\n",
       "      <td>1</td>\n",
       "      <td>2019-06-11</td>\n",
       "      <td>194.860001</td>\n",
       "      <td>196.000000</td>\n",
       "      <td>193.600006</td>\n",
       "      <td>194.809998</td>\n",
       "      <td>192.512451</td>\n",
       "      <td>26932900</td>\n",
       "    </tr>\n",
       "    <tr>\n",
       "      <td>2</td>\n",
       "      <td>2019-06-12</td>\n",
       "      <td>193.949997</td>\n",
       "      <td>195.970001</td>\n",
       "      <td>193.389999</td>\n",
       "      <td>194.190002</td>\n",
       "      <td>191.899780</td>\n",
       "      <td>18221800</td>\n",
       "    </tr>\n",
       "    <tr>\n",
       "      <td>3</td>\n",
       "      <td>2019-06-13</td>\n",
       "      <td>194.699997</td>\n",
       "      <td>196.789993</td>\n",
       "      <td>193.600006</td>\n",
       "      <td>194.149994</td>\n",
       "      <td>191.860229</td>\n",
       "      <td>21674600</td>\n",
       "    </tr>\n",
       "    <tr>\n",
       "      <td>4</td>\n",
       "      <td>2019-06-14</td>\n",
       "      <td>191.550003</td>\n",
       "      <td>193.589996</td>\n",
       "      <td>190.300003</td>\n",
       "      <td>192.740005</td>\n",
       "      <td>190.466873</td>\n",
       "      <td>18761500</td>\n",
       "    </tr>\n",
       "    <tr>\n",
       "      <td>...</td>\n",
       "      <td>...</td>\n",
       "      <td>...</td>\n",
       "      <td>...</td>\n",
       "      <td>...</td>\n",
       "      <td>...</td>\n",
       "      <td>...</td>\n",
       "      <td>...</td>\n",
       "    </tr>\n",
       "    <tr>\n",
       "      <td>248</td>\n",
       "      <td>2020-06-03</td>\n",
       "      <td>324.660004</td>\n",
       "      <td>326.200012</td>\n",
       "      <td>322.299988</td>\n",
       "      <td>325.119995</td>\n",
       "      <td>325.119995</td>\n",
       "      <td>26122800</td>\n",
       "    </tr>\n",
       "    <tr>\n",
       "      <td>249</td>\n",
       "      <td>2020-06-04</td>\n",
       "      <td>324.390015</td>\n",
       "      <td>325.619995</td>\n",
       "      <td>320.779999</td>\n",
       "      <td>322.320007</td>\n",
       "      <td>322.320007</td>\n",
       "      <td>21890100</td>\n",
       "    </tr>\n",
       "    <tr>\n",
       "      <td>250</td>\n",
       "      <td>2020-06-05</td>\n",
       "      <td>323.350006</td>\n",
       "      <td>331.750000</td>\n",
       "      <td>323.230011</td>\n",
       "      <td>331.500000</td>\n",
       "      <td>331.500000</td>\n",
       "      <td>34312600</td>\n",
       "    </tr>\n",
       "    <tr>\n",
       "      <td>251</td>\n",
       "      <td>2020-06-08</td>\n",
       "      <td>330.250000</td>\n",
       "      <td>333.600006</td>\n",
       "      <td>327.320007</td>\n",
       "      <td>333.459991</td>\n",
       "      <td>333.459991</td>\n",
       "      <td>23913600</td>\n",
       "    </tr>\n",
       "    <tr>\n",
       "      <td>252</td>\n",
       "      <td>2020-06-09</td>\n",
       "      <td>332.140015</td>\n",
       "      <td>345.609985</td>\n",
       "      <td>332.010010</td>\n",
       "      <td>343.989990</td>\n",
       "      <td>343.989990</td>\n",
       "      <td>36884300</td>\n",
       "    </tr>\n",
       "  </tbody>\n",
       "</table>\n",
       "<p>253 rows × 7 columns</p>\n",
       "</div>"
      ],
      "text/plain": [
       "           Date        Open        High         Low       Close   Adj Close  \\\n",
       "0    2019-06-10  191.809998  195.369995  191.619995  192.580002  190.308762   \n",
       "1    2019-06-11  194.860001  196.000000  193.600006  194.809998  192.512451   \n",
       "2    2019-06-12  193.949997  195.970001  193.389999  194.190002  191.899780   \n",
       "3    2019-06-13  194.699997  196.789993  193.600006  194.149994  191.860229   \n",
       "4    2019-06-14  191.550003  193.589996  190.300003  192.740005  190.466873   \n",
       "..          ...         ...         ...         ...         ...         ...   \n",
       "248  2020-06-03  324.660004  326.200012  322.299988  325.119995  325.119995   \n",
       "249  2020-06-04  324.390015  325.619995  320.779999  322.320007  322.320007   \n",
       "250  2020-06-05  323.350006  331.750000  323.230011  331.500000  331.500000   \n",
       "251  2020-06-08  330.250000  333.600006  327.320007  333.459991  333.459991   \n",
       "252  2020-06-09  332.140015  345.609985  332.010010  343.989990  343.989990   \n",
       "\n",
       "       Volume  \n",
       "0    26220900  \n",
       "1    26932900  \n",
       "2    18221800  \n",
       "3    21674600  \n",
       "4    18761500  \n",
       "..        ...  \n",
       "248  26122800  \n",
       "249  21890100  \n",
       "250  34312600  \n",
       "251  23913600  \n",
       "252  36884300  \n",
       "\n",
       "[253 rows x 7 columns]"
      ]
     },
     "execution_count": 16,
     "metadata": {},
     "output_type": "execute_result"
    }
   ],
   "source": [
    "app_d = pd.read_csv('AAPL.csv')\n",
    "app_d"
   ]
  },
  {
   "cell_type": "code",
   "execution_count": 28,
   "metadata": {},
   "outputs": [
    {
     "data": {
      "text/plain": [
       "0      2019-06-10\n",
       "1      2019-06-11\n",
       "2      2019-06-12\n",
       "3      2019-06-13\n",
       "4      2019-06-14\n",
       "          ...    \n",
       "248    2020-06-03\n",
       "249    2020-06-04\n",
       "250    2020-06-05\n",
       "251    2020-06-08\n",
       "252    2020-06-09\n",
       "Name: Date, Length: 253, dtype: object"
      ]
     },
     "execution_count": 28,
     "metadata": {},
     "output_type": "execute_result"
    }
   ],
   "source": [
    "#\n",
    "#app_d['Date'] = pd.to_datetime(app_d['Date'], format ='%d-%m-%y')\n",
    "app_d['Date'] "
   ]
  },
  {
   "cell_type": "code",
   "execution_count": 34,
   "metadata": {},
   "outputs": [
    {
     "data": {
      "text/plain": [
       "65924.64997300004"
      ]
     },
     "execution_count": 34,
     "metadata": {},
     "output_type": "execute_result"
    }
   ],
   "source": [
    "sum(app_d['High'])\n"
   ]
  },
  {
   "cell_type": "code",
   "execution_count": 37,
   "metadata": {},
   "outputs": [
    {
     "data": {
      "text/plain": [
       "array([195.369995, 196.      , 195.970001, 196.789993, 193.589996,\n",
       "       194.960007, 200.289993, 199.880005, 200.610001, 200.850006,\n",
       "       200.160004, 199.259995, 200.990005, 201.570007, 199.5     ,\n",
       "       204.490005, 203.130005, 204.440002, 205.080002, 201.399994,\n",
       "       201.509995, 203.729996, 204.389999, 204.      , 205.869995,\n",
       "       206.110001, 205.089996, 205.880005, 206.5     , 207.229996,\n",
       "       208.910004, 209.149994, 209.240005, 209.729996, 210.639999,\n",
       "       210.160004, 221.369995, 218.029999, 206.429993, 198.649994,\n",
       "       198.070007, 199.559998, 203.529999, 202.759995, 202.050003,\n",
       "       212.139999, 206.440002, 205.139999, 207.160004, 212.729996,\n",
       "       213.350006, 213.649994, 214.440002, 212.050003, 207.190002,\n",
       "       208.550003, 205.720001, 209.320007, 210.449997, 206.979996,\n",
       "       209.479996, 213.970001, 214.419998, 216.440002, 216.779999,\n",
       "       223.710007, 226.419998, 220.789993, 220.130005, 220.820007,\n",
       "       222.850006, 223.759995, 222.559998, 219.839996, 222.490005,\n",
       "       221.5     , 220.940002, 220.960007, 224.580002, 228.220001,\n",
       "       223.580002, 220.960007, 227.490005, 229.929993, 228.059998,\n",
       "       227.789993, 230.440002, 237.639999, 238.130005, 237.649994,\n",
       "       235.240005, 236.149994, 237.580002, 240.990005, 242.199997,\n",
       "       243.240005, 244.800003, 246.729996, 249.25    , 249.75    ,\n",
       "       245.300003, 249.169998, 255.929993, 257.850006, 258.190002,\n",
       "       257.48999 , 260.350006, 260.440002, 262.470001, 262.790009,\n",
       "       264.779999, 264.880005, 265.779999, 267.429993, 268.      ,\n",
       "       266.079987, 264.01001 , 263.179993, 266.440002, 267.160004,\n",
       "       267.980011, 268.      , 268.25    , 259.529999, 263.309998,\n",
       "       265.890015, 271.      , 270.799988, 270.070007, 271.100006,\n",
       "       272.559998, 275.299988, 280.790009, 281.769989, 281.899994,\n",
       "       281.179993, 282.649994, 284.25    , 284.890015, 289.980011,\n",
       "       293.970001, 292.690002, 293.679993, 300.600006, 300.579987,\n",
       "       299.959991, 300.899994, 304.440002, 310.429993, 312.670013,\n",
       "       317.070007, 317.570007, 315.5     , 315.700012, 318.73999 ,\n",
       "       319.019989, 319.98999 , 319.559998, 323.329987, 311.769989,\n",
       "       318.399994, 327.850006, 324.089996, 322.679993, 313.48999 ,\n",
       "       319.640015, 324.76001 , 325.220001, 323.399994, 321.549988,\n",
       "       323.899994, 327.220001, 326.220001, 325.980011, 319.75    ,\n",
       "       324.570007, 324.649994, 320.450012, 304.179993, 302.529999,\n",
       "       297.880005, 286.      , 278.410004, 301.440002, 304.      ,\n",
       "       303.399994, 299.549988, 290.820007, 278.089996, 286.440002,\n",
       "       281.220001, 270.      , 279.920013, 259.079987, 257.609985,\n",
       "       250.      , 252.839996, 251.830002, 228.5     , 247.690002,\n",
       "       258.25    , 258.679993, 255.869995, 255.520004, 262.48999 ,\n",
       "       248.720001, 245.149994, 245.699997, 263.109985, 271.700012,\n",
       "       267.369995, 270.070007, 273.700012, 288.25    , 286.329987,\n",
       "       288.200012, 286.950012, 281.679993, 277.25    , 277.899994,\n",
       "       281.75    , 283.01001 , 284.540009, 285.829987, 289.670013,\n",
       "       294.529999, 299.      , 293.690002, 301.      , 303.23999 ,\n",
       "       305.170013, 310.350006, 317.049988, 319.690002, 315.950012,\n",
       "       309.790009, 307.899994, 316.5     , 318.519989, 319.519989,\n",
       "       320.890015, 319.230011, 324.23999 , 318.709991, 323.440002,\n",
       "       321.149994, 322.350006, 323.440002, 326.200012, 325.619995,\n",
       "       331.75    , 333.600006, 345.609985])"
      ]
     },
     "execution_count": 37,
     "metadata": {},
     "output_type": "execute_result"
    }
   ],
   "source": [
    "(app_d['High']).values"
   ]
  },
  {
   "cell_type": "code",
   "execution_count": 40,
   "metadata": {},
   "outputs": [
    {
     "data": {
      "text/html": [
       "<div>\n",
       "<style scoped>\n",
       "    .dataframe tbody tr th:only-of-type {\n",
       "        vertical-align: middle;\n",
       "    }\n",
       "\n",
       "    .dataframe tbody tr th {\n",
       "        vertical-align: top;\n",
       "    }\n",
       "\n",
       "    .dataframe thead th {\n",
       "        text-align: right;\n",
       "    }\n",
       "</style>\n",
       "<table border=\"1\" class=\"dataframe\">\n",
       "  <thead>\n",
       "    <tr style=\"text-align: right;\">\n",
       "      <th></th>\n",
       "      <th>Date</th>\n",
       "      <th>High</th>\n",
       "    </tr>\n",
       "  </thead>\n",
       "  <tbody>\n",
       "    <tr>\n",
       "      <td>0</td>\n",
       "      <td>2019-06-10</td>\n",
       "      <td>195.369995</td>\n",
       "    </tr>\n",
       "    <tr>\n",
       "      <td>1</td>\n",
       "      <td>2019-06-11</td>\n",
       "      <td>196.000000</td>\n",
       "    </tr>\n",
       "    <tr>\n",
       "      <td>2</td>\n",
       "      <td>2019-06-12</td>\n",
       "      <td>195.970001</td>\n",
       "    </tr>\n",
       "    <tr>\n",
       "      <td>3</td>\n",
       "      <td>2019-06-13</td>\n",
       "      <td>196.789993</td>\n",
       "    </tr>\n",
       "    <tr>\n",
       "      <td>4</td>\n",
       "      <td>2019-06-14</td>\n",
       "      <td>193.589996</td>\n",
       "    </tr>\n",
       "    <tr>\n",
       "      <td>...</td>\n",
       "      <td>...</td>\n",
       "      <td>...</td>\n",
       "    </tr>\n",
       "    <tr>\n",
       "      <td>248</td>\n",
       "      <td>2020-06-03</td>\n",
       "      <td>326.200012</td>\n",
       "    </tr>\n",
       "    <tr>\n",
       "      <td>249</td>\n",
       "      <td>2020-06-04</td>\n",
       "      <td>325.619995</td>\n",
       "    </tr>\n",
       "    <tr>\n",
       "      <td>250</td>\n",
       "      <td>2020-06-05</td>\n",
       "      <td>331.750000</td>\n",
       "    </tr>\n",
       "    <tr>\n",
       "      <td>251</td>\n",
       "      <td>2020-06-08</td>\n",
       "      <td>333.600006</td>\n",
       "    </tr>\n",
       "    <tr>\n",
       "      <td>252</td>\n",
       "      <td>2020-06-09</td>\n",
       "      <td>345.609985</td>\n",
       "    </tr>\n",
       "  </tbody>\n",
       "</table>\n",
       "<p>253 rows × 2 columns</p>\n",
       "</div>"
      ],
      "text/plain": [
       "           Date        High\n",
       "0    2019-06-10  195.369995\n",
       "1    2019-06-11  196.000000\n",
       "2    2019-06-12  195.970001\n",
       "3    2019-06-13  196.789993\n",
       "4    2019-06-14  193.589996\n",
       "..          ...         ...\n",
       "248  2020-06-03  326.200012\n",
       "249  2020-06-04  325.619995\n",
       "250  2020-06-05  331.750000\n",
       "251  2020-06-08  333.600006\n",
       "252  2020-06-09  345.609985\n",
       "\n",
       "[253 rows x 2 columns]"
      ]
     },
     "execution_count": 40,
     "metadata": {},
     "output_type": "execute_result"
    }
   ],
   "source": [
    "app_d[['Date','High']] # connect column"
   ]
  },
  {
   "cell_type": "code",
   "execution_count": 42,
   "metadata": {},
   "outputs": [
    {
     "data": {
      "image/png": "[encoded data removed]",
      "text/plain": [
       "<Figure size 432x288 with 1 Axes>"
      ]
     },
     "metadata": {
      "needs_background": "light"
     },
     "output_type": "display_data"
    }
   ],
   "source": [
    "app_d.plot()\n",
    "plt.show()"
   ]
  },
  {
   "cell_type": "code",
   "execution_count": 45,
   "metadata": {},
   "outputs": [
    {
     "data": {
      "image/png": "[encoded data removed]",
      "text/plain": [
       "<Figure size 432x288 with 1 Axes>"
      ]
     },
     "metadata": {
      "needs_background": "light"
     },
     "output_type": "display_data"
    }
   ],
   "source": [
    "app_d['High'].plot(color = 'g' ,legend = True)\n",
    "plt.show()"
   ]
  },
  {
   "cell_type": "code",
   "execution_count": 53,
   "metadata": {},
   "outputs": [
    {
     "data": {
      "image/png": "[encoded data removed]",
      "text/plain": [
       "<Figure size 432x288 with 1 Axes>"
      ]
     },
     "metadata": {
      "needs_background": "light"
     },
     "output_type": "display_data"
    }
   ],
   "source": [
    "app_d['High'].plot(color = 'r' ,legend = True, style ='.')\n",
    "app_d['Low'].plot(color = 'b' ,legend = True)\n",
    "plt.savefig('app.jpg')\n",
    "plt.show()\n"
   ]
  },
  {
   "cell_type": "code",
   "execution_count": null,
   "metadata": {},
   "outputs": [],
   "source": []
  }
 ],
 "metadata": {
  "kernelspec": {
   "display_name": "Python 3",
   "language": "python",
   "name": "python3"
  },
  "language_info": {
   "codemirror_mode": {
    "name": "ipython",
    "version": 3
   },
   "file_extension": ".py",
   "mimetype": "text/x-python",
   "name": "python",
   "nbconvert_exporter": "python",
   "pygments_lexer": "ipython3",
   "version": "3.7.4"
  }
 },
 "nbformat": 4,
 "nbformat_minor": 2
}
